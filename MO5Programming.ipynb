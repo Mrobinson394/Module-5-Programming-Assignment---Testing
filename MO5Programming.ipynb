{
 "cells": [
  {
   "cell_type": "code",
   "execution_count": null,
   "id": "1b4aad2b-57d3-400e-af50-ca74144e83aa",
   "metadata": {},
   "outputs": [],
   "source": [
    "# Define a custom sum function\n",
    "def sum_custom(iterable):\n",
    "    total = 0\n",
    "    for val in iterable:\n",
    "        total += val\n",
    "    return total\n"
   ]
  },
  {
   "cell_type": "code",
   "execution_count": null,
   "id": "da65d260-1f39-4b99-8520-83cd46d4863f",
   "metadata": {},
   "outputs": [],
   "source": [
    "# Example of manual testing\n",
    "assert sum_custom([1, 2, 3]) == 6, \"Test Failed: Expected 6\"\n"
   ]
  },
  {
   "cell_type": "code",
   "execution_count": null,
   "id": "6c282559-db79-4267-8523-73d2a88fdf3c",
   "metadata": {},
   "outputs": [],
   "source": [
    "import unittest\n",
    "\n",
    "# Custom test case for our sum function\n",
    "class TestSumCustom(unittest.TestCase):\n",
    "    def test_list_integers(self):\n",
    "        self.assertEqual(sum_custom([1, 2, 3]), 6, \"Should be 6\")\n",
    "    \n",
    "    def test_list_negative_integers(self):\n",
    "        self.assertEqual(sum_custom([-1, -2, -3]), -6, \"Should be -6\")\n",
    "    \n",
    "    def test_list_floats(self):\n",
    "        self.assertEqual(sum_custom([1.5, 2.5, 3.5]), 7.5, \"Should be 7.5\")\n",
    "\n",
    "# Running the test\n",
    "unittest.main(argv=[''], verbosity=2, exit=False)\n"
   ]
  }
 ],
 "metadata": {
  "kernelspec": {
   "display_name": "Python 3 (ipykernel)",
   "language": "python",
   "name": "python3"
  },
  "language_info": {
   "codemirror_mode": {
    "name": "ipython",
    "version": 3
   },
   "file_extension": ".py",
   "mimetype": "text/x-python",
   "name": "python",
   "nbconvert_exporter": "python",
   "pygments_lexer": "ipython3",
   "version": "3.12.4"
  }
 },
 "nbformat": 4,
 "nbformat_minor": 5
}
